{
 "cells": [
  {
   "cell_type": "markdown",
   "id": "2434f032-724c-4157-ba48-a81e2b05ebd8",
   "metadata": {},
   "source": [
    "# Laboratorio No. 3\n",
    "## IDE9610014 - José Carlos Obregón Castañeda"
   ]
  },
  {
   "cell_type": "code",
   "execution_count": null,
   "id": "d7cc891f-230f-40a0-a5f8-63dc448be6f0",
   "metadata": {},
   "outputs": [],
   "source": []
  }
 ],
 "metadata": {
  "kernelspec": {
   "display_name": "Python 3 (ipykernel)",
   "language": "python",
   "name": "python3"
  },
  "language_info": {
   "codemirror_mode": {
    "name": "ipython",
    "version": 3
   },
   "file_extension": ".py",
   "mimetype": "text/x-python",
   "name": "python",
   "nbconvert_exporter": "python",
   "pygments_lexer": "ipython3",
   "version": "3.11.5"
  }
 },
 "nbformat": 4,
 "nbformat_minor": 5
}
