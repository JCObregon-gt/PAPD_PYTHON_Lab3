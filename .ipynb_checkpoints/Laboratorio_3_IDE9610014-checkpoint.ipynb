{
 "cells": [
  {
   "cell_type": "markdown",
   "id": "2434f032-724c-4157-ba48-a81e2b05ebd8",
   "metadata": {},
   "source": [
    "# Laboratorio No. 3\n",
    "### IDE9610014 - José Carlos Obregón Castañeda"
   ]
  },
  {
   "cell_type": "markdown",
   "id": "c11aebaa-ff2b-4799-8cfe-9b5a9ad11a1d",
   "metadata": {},
   "source": [
    "## Parte 1: Nummpy"
   ]
  },
  {
   "cell_type": "code",
   "execution_count": null,
   "id": "23aa7e91-7542-4408-975b-9d4194da3ef3",
   "metadata": {
    "tags": []
   },
   "outputs": [],
   "source": [
    "## Import librerías.\n",
    "import numpy as np"
   ]
  },
  {
   "cell_type": "markdown",
   "id": "731d60fc-c3ea-45f4-980c-5a896ef4659f",
   "metadata": {},
   "source": [
    "### 1. ¿Cuál es el tamaño en bytes de un array de 1000 elementos de tipo booleano?"
   ]
  },
  {
   "cell_type": "code",
   "execution_count": null,
   "id": "9b613f73-ef80-49f2-aa46-d4cbdb206b32",
   "metadata": {
    "tags": []
   },
   "outputs": [],
   "source": [
    "## Se crea el array de 1000 para obtener su tamaño.\n",
    "a = np.full((100, 100), 1, dtype=bool) "
   ]
  },
  {
   "cell_type": "code",
   "execution_count": null,
   "id": "626c133a-79fe-4fad-8b47-da6e4c8776be",
   "metadata": {
    "tags": []
   },
   "outputs": [],
   "source": [
    "## Se obtiene el tamaño en bytes del array.\n",
    "a.itemsize"
   ]
  },
  {
   "cell_type": "markdown",
   "id": "7d8e919d-f9d4-44c6-b7ae-a2eb19d1cfd5",
   "metadata": {},
   "source": [
    "### 2. Cree un array cuyos elementos sean los enteros pares en [1,100] y en orden decreciente. Muestre los 10 últimos por pantalla."
   ]
  },
  {
   "cell_type": "code",
   "execution_count": null,
   "id": "9619cdd6-9499-4f78-bc00-a942b19f9458",
   "metadata": {
    "tags": []
   },
   "outputs": [],
   "source": [
    "## Se crea el arreglo solicitado (pares de 2 al 100 en orden descendente)\n",
    "b = np.arange(100,0,-2)\n",
    "b"
   ]
  },
  {
   "cell_type": "code",
   "execution_count": null,
   "id": "6e811409-5ddc-4c97-99ec-c268b2dd5360",
   "metadata": {
    "tags": []
   },
   "outputs": [],
   "source": [
    "## Se muestran los últimos 10 elementos del arreglo creado.\n",
    "b[-10:]"
   ]
  },
  {
   "cell_type": "markdown",
   "id": "5776aec5-d156-4919-a627-d66fd6c6178e",
   "metadata": {},
   "source": [
    "### 3. Dado el array\n",
    "\n",
    "    2 4 5 6\n",
    "    0 3 7 4\n",
    "    8 8 5 2\n",
    "    1 5 6 1\n",
    "\n",
    "    Seleccione con una instrucción el subarray de elementos\n",
    "    0 3 7 4\n",
    "\n",
    "    Después, seleccione el subarray de elementos\n",
    "    2 5\n",
    "    8 5"
   ]
  },
  {
   "cell_type": "code",
   "execution_count": null,
   "id": "49f556a3-c2fa-4a45-b2d8-e67b4e07726f",
   "metadata": {
    "tags": []
   },
   "outputs": [],
   "source": [
    "## Se crea el array con subconjuntos dados.\n",
    "c = np.array([[2,4,5,6],[0,3,7,4],[8,8,5,2],[1,5,6,1]])\n",
    "c"
   ]
  },
  {
   "cell_type": "code",
   "execution_count": null,
   "id": "88a329af-70bf-4713-af45-dbd4b44677a5",
   "metadata": {
    "tags": []
   },
   "outputs": [],
   "source": [
    "## Selecciona el array 0 3 7 4\n",
    "print(c[1])"
   ]
  },
  {
   "cell_type": "code",
   "execution_count": null,
   "id": "7fd8d12f-56e4-417a-aaf8-9b09682c6ecb",
   "metadata": {
    "tags": []
   },
   "outputs": [],
   "source": [
    "## Selecciona el subconjunto 2 5 del array 0 y el subconjunto 8 5 del array 2\n",
    "print(c[0][0:3:2])\n",
    "print(c[2][0:5:2])"
   ]
  },
  {
   "cell_type": "markdown",
   "id": "fbb4ed36-3bcb-4f40-a66c-eb6f772caaf6",
   "metadata": {},
   "source": [
    "### 4. Dados los arrays a = [1, 4, 2, 7] y b = [1, 3, 2, 9], obtenga la media aritmética de la diferencia (a-b)."
   ]
  },
  {
   "cell_type": "code",
   "execution_count": null,
   "id": "3437299c-1a92-4736-85cc-1a894af40bda",
   "metadata": {
    "tags": []
   },
   "outputs": [],
   "source": [
    "## Se crea el array solicitado.\n",
    "a = np.array([1,4,2,7])\n",
    "b = np.array([1,3,2,9])"
   ]
  },
  {
   "cell_type": "code",
   "execution_count": null,
   "id": "65c92cb4-be7e-456d-8d81-8e73a10c6a4d",
   "metadata": {
    "tags": []
   },
   "outputs": [],
   "source": [
    "## Se realiza la resta\n",
    "c = np.subtract(a,b)\n",
    "print(c)"
   ]
  },
  {
   "cell_type": "code",
   "execution_count": null,
   "id": "c8d27133-83a9-481e-8d3d-891a53e1a64b",
   "metadata": {
    "tags": []
   },
   "outputs": [],
   "source": [
    "## Se saca la media de la diferencia.\n",
    "media = np.mean(c)\n",
    "print(media)"
   ]
  },
  {
   "cell_type": "markdown",
   "id": "82956d0b-e788-4a10-85e4-eb41a8cfbcfa",
   "metadata": {},
   "source": [
    "### 5. Tengo valores de cordenadas (x, y) en las columnas del array\n",
    "\n",
    "    1.33 4.5\n",
    "    30.0 10.7\n",
    "    70.2 0.5\n",
    "\n",
    "    Agregue a este array las coordenadas (37.1, -3.6).\n",
    "    Muestre en pantalla las dimensiones del nuevo array."
   ]
  },
  {
   "cell_type": "code",
   "execution_count": null,
   "id": "34daf6fb-9415-44c0-af02-f69733d93edc",
   "metadata": {
    "tags": []
   },
   "outputs": [],
   "source": [
    "## Se crea el array con las coordenadas dadas.\n",
    "a = np.array([[1.33,4.5],[30.0,10.7],[70.2,0.5]])\n",
    "a"
   ]
  },
  {
   "cell_type": "code",
   "execution_count": null,
   "id": "97fb074b-077c-4fe9-9444-295610b77390",
   "metadata": {
    "tags": []
   },
   "outputs": [],
   "source": [
    "## Se agrega un nuevo juego de coordenadas\n",
    "geo = np.append(a,[37.1,-3.6])\n",
    "## Se muestra el array\n",
    "geo"
   ]
  },
  {
   "cell_type": "markdown",
   "id": "e74c303f-9a85-45f9-902c-04d6cf9846dd",
   "metadata": {},
   "source": [
    "### 6. Copie el array del ejercicio anterior. Traspóngalo.\n",
    "\n",
    "    Agregue ahora dos nuevos pares de coordenadas: (10.8,3.0) y (35.8, 12.0).\n"
   ]
  },
  {
   "cell_type": "code",
   "execution_count": null,
   "id": "68f9a626-2749-4d95-9f64-61b4589e62d6",
   "metadata": {
    "tags": []
   },
   "outputs": [],
   "source": [
    "## Transponer el array anterior\n",
    "geo_2 = np.transpose(geo)"
   ]
  },
  {
   "cell_type": "code",
   "execution_count": null,
   "id": "9cbd2e94-453d-458d-8b37-59496b0e6417",
   "metadata": {
    "tags": []
   },
   "outputs": [],
   "source": [
    "## Agrega nuevas coordenadas\n",
    "geo_3 = np.append(geo_2,[[10.8,3.0],[35.8,12.0]])\n",
    "geo_3"
   ]
  },
  {
   "cell_type": "markdown",
   "id": "d942afc0-628b-4383-b9ab-02b1ee28b318",
   "metadata": {},
   "source": [
    "## Parte 2: Exploración y Minería de Datos:"
   ]
  },
  {
   "cell_type": "code",
   "execution_count": null,
   "id": "9ffef7d2-aa76-4aab-9180-71f4dfbfb941",
   "metadata": {
    "tags": []
   },
   "outputs": [],
   "source": [
    "## Importar librerías\n",
    "import numpy as np\n",
    "import pandas as pd\n",
    "import matplotlib.pyplot as plt"
   ]
  },
  {
   "cell_type": "code",
   "execution_count": null,
   "id": "c690aa5a-fbed-49fc-8fb6-4f250546c5b8",
   "metadata": {
    "tags": []
   },
   "outputs": [],
   "source": [
    "## Carga a dataset la información de NucleosPoblacion.csv\n",
    "dataset = pd.read_csv(\"NucleosPoblacion.csv\")\n",
    "dataset.shape"
   ]
  },
  {
   "cell_type": "markdown",
   "id": "17424bbf-c5b4-401a-a0b0-19a8b6190932",
   "metadata": {},
   "source": [
    "### 1. ¿Cuántos Municipios tienen más de 100000 habitantes?."
   ]
  },
  {
   "cell_type": "code",
   "execution_count": null,
   "id": "f032e4d9-cc8c-47e7-9373-4cf6deae2874",
   "metadata": {
    "tags": []
   },
   "outputs": [],
   "source": [
    "dataset[(dataset['Poblacion'] > 100000)]"
   ]
  },
  {
   "cell_type": "markdown",
   "id": "09772399-142a-470b-92e6-86559db18abd",
   "metadata": {},
   "source": [
    "### 2. Realice una gráfica de barras sobre la población de cada ciudad, ordenela de menor a mayor y responda:\n",
    "    a. ¿Cuál es la segunda ciudad más poblada?\n",
    "    b. ¿Qué posición ocupa Granada en el ranking de las ciudades más pobladas?"
   ]
  },
  {
   "cell_type": "code",
   "execution_count": null,
   "id": "02481fef-7f2d-4175-9fd0-d5c9deb5e8de",
   "metadata": {
    "tags": []
   },
   "outputs": [],
   "source": [
    "df = pd.DataFrame(dataset, columns=['Municipio', 'Poblacion'])\n",
    "\n",
    "ciudades = df.sort_values('Poblacion', ascending=True)\n",
    "ciudades\n"
   ]
  },
  {
   "cell_type": "code",
   "execution_count": null,
   "id": "7c9d9065-d366-4479-ab2b-e7f205b0a2b9",
   "metadata": {
    "tags": []
   },
   "outputs": [],
   "source": [
    "## a. ¿Cuál es la segunda ciudad más poblada?\n",
    "segunda_ciudad = dataset.sort_values('Poblacion', ascending=False).iloc[1]\n",
    "print(segunda_ciudad)"
   ]
  },
  {
   "cell_type": "code",
   "execution_count": null,
   "id": "83e7725a-ca32-48b7-8883-915aa28c6935",
   "metadata": {
    "tags": []
   },
   "outputs": [],
   "source": [
    "## b. ¿Qué posición ocupa Granada en el ranking de las ciudades más pobladas?\n",
    "ranking = dataset.sort_values('Poblacion', ascending=False)\n",
    "ranking['Ranking'] = range(1,len(ranking) + 1)\n",
    "ranking[(ranking['Texto'] == 'Granada')]\n"
   ]
  },
  {
   "cell_type": "markdown",
   "id": "d0afe82e-3b2e-4c1e-99db-c07755a6399e",
   "metadata": {
    "tags": []
   },
   "source": [
    "### 3. ¿Cuántos municipios de Navarra tienen más de 5000 habitantes?"
   ]
  },
  {
   "cell_type": "code",
   "execution_count": null,
   "id": "63d25bf2-98f8-45b2-b91e-810081eef31f",
   "metadata": {
    "tags": []
   },
   "outputs": [],
   "source": [
    "navarra = dataset[(dataset['Provincia'] == 'Navarra') &\n",
    "                      (dataset['Poblacion'] > 5000)]\n",
    "navarra"
   ]
  },
  {
   "cell_type": "markdown",
   "id": "626f7e0c-6d9f-4841-b7ce-d11bb6c85622",
   "metadata": {},
   "source": [
    "### 4. ¿Cuál es el municipio situado más al Norte? \n",
    "    (Usar el valor de la coordenada \"Y\" que representa la latitud en grados). \n",
    "    Proporcione también la provincia a la que pertenece y su población"
   ]
  },
  {
   "cell_type": "code",
   "execution_count": null,
   "id": "3d074528-a280-421f-8701-af2a876c5c1d",
   "metadata": {
    "tags": []
   },
   "outputs": [],
   "source": [
    "df = pd.DataFrame(dataset, columns=['Provincia', 'Municipio', 'Poblacion','Y'])\n",
    "valor_norte = df.loc[df['Y'].idxmax()]\n",
    "print(valor_norte)"
   ]
  },
  {
   "cell_type": "markdown",
   "id": "933b10f1-42b8-46ac-85de-5c709dd6b8c3",
   "metadata": {},
   "source": [
    "### 5. Obtenga la media, mediana, desviación estándar, valor máximo y valor mínimo de la población de los municipios de la provincia de Granada"
   ]
  },
  {
   "cell_type": "code",
   "execution_count": null,
   "id": "36bce000-231f-4d3e-b257-f5de938df72f",
   "metadata": {
    "tags": []
   },
   "outputs": [],
   "source": [
    "granada = dataset[(dataset['Provincia'] == 'Granada')]\n",
    "poblacion = granada['Poblacion'].describe()\n",
    "\n",
    "print('---------GRANADA---------')\n",
    "print(\"Media: \", poblacion['mean'])\n",
    "print(\"Mediana: \", poblacion['50%'])\n",
    "print(\"Desviación: \", poblacion['std'])\n",
    "print(\"Máximo: \", poblacion['max'])\n",
    "print(\"Mínimo: \", poblacion['min'])\n"
   ]
  },
  {
   "cell_type": "markdown",
   "id": "7c5c5e4b-b006-42b4-bca9-233f75e43bdf",
   "metadata": {
    "tags": []
   },
   "source": [
    "### 6. Realice un histograma con la población de los Municipios para cada una de las provincias.\n"
   ]
  },
  {
   "cell_type": "code",
   "execution_count": null,
   "id": "9ee91637-dfca-46c6-a6e0-b4c59ea9d41f",
   "metadata": {
    "tags": []
   },
   "outputs": [],
   "source": [
    "df = pd.DataFrame(dataset, columns=['Provincia', 'Municipio', 'Poblacion'])\n",
    "\n",
    "for provincia in df['Provincia'].unique():\n",
    "    datos = df[df['Provincia']==provincia]\n",
    "    print(provincia)\n",
    "    print('====================================================')\n",
    "    print(datos)\n",
    "    print('====================================================')\n",
    "    fig, ax = plt.subplots()\n",
    "    ax.hist(datos['Poblacion'],10,color='skyblue')\n",
    "    plt.title(f'Provincia {provincia}')\n",
    "    plt.grid(True)\n",
    "    plt.show()\n",
    "    print('====================================================')\n"
   ]
  },
  {
   "cell_type": "markdown",
   "id": "9452a6f7-6614-4aa0-8775-4cbc0fee8a20",
   "metadata": {},
   "source": [
    "### 7. Seleccione al azar cincuenta municipios diferentes de entre los diponibles en el archivo. Asegúrese de que no se repitan. ¿Luego calcule el promedio de la población y la desviación estándar de esto 50 municipios?."
   ]
  },
  {
   "cell_type": "code",
   "execution_count": null,
   "id": "ec80d816-0b7e-489b-9bc5-95bfbccd9212",
   "metadata": {
    "tags": []
   },
   "outputs": [],
   "source": [
    "df = pd.DataFrame(dataset, columns=['Municipio', 'Poblacion'])\n",
    "\n",
    "municipios = df.sample(n=50)\n",
    "\n",
    "print(municipios)\n",
    "\n",
    "print(f'Promedio: ',np.mean(municipios['Poblacion']))\n",
    "print(f'Promedio: ',np.std(municipios['Poblacion']))\n"
   ]
  },
  {
   "cell_type": "markdown",
   "id": "2afd2d72-424a-4be7-afae-359ecf0e0305",
   "metadata": {
    "tags": []
   },
   "source": [
    "### 8. Determine los nombres de los Municipios más cercano y más lejano a Madrid. Para ello debe calcular la distancia en todos ellos y Madrid. No considere a Madrid en el análisis ya que la distancia sería cero"
   ]
  },
  {
   "cell_type": "code",
   "execution_count": null,
   "id": "d0724a94-3ec5-499f-9d18-948340e5f7c6",
   "metadata": {
    "tags": []
   },
   "outputs": [],
   "source": [
    "df = pd.DataFrame(dataset, columns=['Municipio', 'Poblacion', 'X', 'Y'])\n",
    "\n",
    "## se colocaron las coordenadas así, puesto que al utilizar el dato del dataframe me llenaba con NaN la columna distancia\n",
    "x_madrid = -3.703797 # Longitud\n",
    "y_madrid = 40.4165 # Latitud\n",
    "\n",
    "df['Distancia']= np.sqrt((df['Y'] - y_madrid)**2 + (df['X'] - x_madrid)**2)\n",
    "\n",
    "cercano = df.loc[df['Distancia'].idxmin()-1]\n",
    "lejano = df.loc[df['Distancia'].idxmax()]\n",
    "\n",
    "print('Municipio más cercano')\n",
    "print('-----------------------------------')\n",
    "print(cercano)\n",
    "print('===================================')\n",
    "print('Municipio más lejano')\n",
    "print('-----------------------------------')\n",
    "print(lejano)\n"
   ]
  }
 ],
 "metadata": {
  "kernelspec": {
   "display_name": "Python 3 (ipykernel)",
   "language": "python",
   "name": "python3"
  },
  "language_info": {
   "codemirror_mode": {
    "name": "ipython",
    "version": 3
   },
   "file_extension": ".py",
   "mimetype": "text/x-python",
   "name": "python",
   "nbconvert_exporter": "python",
   "pygments_lexer": "ipython3",
   "version": "3.11.5"
  }
 },
 "nbformat": 4,
 "nbformat_minor": 5
}
