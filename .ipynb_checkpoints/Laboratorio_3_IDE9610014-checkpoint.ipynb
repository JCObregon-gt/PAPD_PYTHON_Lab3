{
 "cells": [
  {
   "cell_type": "markdown",
   "id": "2434f032-724c-4157-ba48-a81e2b05ebd8",
   "metadata": {},
   "source": [
    "# Laboratorio No. 3\n",
    "## IDE9610014 - José Carlos Obregón Castañeda"
   ]
  },
  {
   "cell_type": "markdown",
   "id": "731d60fc-c3ea-45f4-980c-5a896ef4659f",
   "metadata": {},
   "source": [
    "1) ¿Cuál es el tamaño en bytes de un array de 1000 elementos de tipo booleano?"
   ]
  },
  {
   "cell_type": "code",
   "execution_count": 2,
   "id": "23aa7e91-7542-4408-975b-9d4194da3ef3",
   "metadata": {
    "tags": []
   },
   "outputs": [],
   "source": [
    "## Import librerías.\n",
    "import numpy as np"
   ]
  },
  {
   "cell_type": "code",
   "execution_count": 51,
   "id": "9b613f73-ef80-49f2-aa46-d4cbdb206b32",
   "metadata": {
    "tags": []
   },
   "outputs": [],
   "source": [
    "## Se crea el array de 1000 para obtener su tamaño.\n",
    "a = np.full((100, 100), 1, dtype=bool) "
   ]
  },
  {
   "cell_type": "code",
   "execution_count": 52,
   "id": "626c133a-79fe-4fad-8b47-da6e4c8776be",
   "metadata": {
    "tags": []
   },
   "outputs": [
    {
     "data": {
      "text/plain": [
       "1"
      ]
     },
     "execution_count": 52,
     "metadata": {},
     "output_type": "execute_result"
    }
   ],
   "source": [
    "## Se obtiene el tamaño en bytes del array.\n",
    "a.itemsize"
   ]
  },
  {
   "cell_type": "markdown",
   "id": "7d8e919d-f9d4-44c6-b7ae-a2eb19d1cfd5",
   "metadata": {},
   "source": [
    "2) Cree un array cuyos elementos sean los enteros pares en [1,100] y en orden decreciente. Muestre los 10 últimos por pantalla."
   ]
  },
  {
   "cell_type": "code",
   "execution_count": 60,
   "id": "9619cdd6-9499-4f78-bc00-a942b19f9458",
   "metadata": {
    "tags": []
   },
   "outputs": [
    {
     "data": {
      "text/plain": [
       "array([100,  98,  96,  94,  92,  90,  88,  86,  84,  82,  80,  78,  76,\n",
       "        74,  72,  70,  68,  66,  64,  62,  60,  58,  56,  54,  52,  50,\n",
       "        48,  46,  44,  42,  40,  38,  36,  34,  32,  30,  28,  26,  24,\n",
       "        22,  20,  18,  16,  14,  12,  10,   8,   6,   4,   2])"
      ]
     },
     "execution_count": 60,
     "metadata": {},
     "output_type": "execute_result"
    }
   ],
   "source": [
    "## Se crea el arreglo solicitado (pares de 2 al 100 en orden descendente)\n",
    "b = np.arange(100,0,-2)\n",
    "b"
   ]
  },
  {
   "cell_type": "code",
   "execution_count": 59,
   "id": "6e811409-5ddc-4c97-99ec-c268b2dd5360",
   "metadata": {
    "tags": []
   },
   "outputs": [
    {
     "data": {
      "text/plain": [
       "array([20, 18, 16, 14, 12, 10,  8,  6,  4,  2])"
      ]
     },
     "execution_count": 59,
     "metadata": {},
     "output_type": "execute_result"
    }
   ],
   "source": [
    "## Se muestran los últimos 10 elementos del arreglo creado.\n",
    "b[-10:]"
   ]
  },
  {
   "cell_type": "markdown",
   "id": "5776aec5-d156-4919-a627-d66fd6c6178e",
   "metadata": {},
   "source": [
    "3) Dado el array\n",
    "\n",
    "2 4 5 6\n",
    "0 3 7 4\n",
    "8 8 5 2\n",
    "1 5 6 1\n",
    "\n",
    "Seleccione con una instrucción el subarray de elementos\n",
    "0 3 7 4\n",
    "\n",
    "Después, seleccione el subarray de elementos\n",
    "2 5\n",
    "8 5"
   ]
  },
  {
   "cell_type": "code",
   "execution_count": 64,
   "id": "49f556a3-c2fa-4a45-b2d8-e67b4e07726f",
   "metadata": {
    "tags": []
   },
   "outputs": [
    {
     "data": {
      "text/plain": [
       "array([[2, 4, 5, 6],\n",
       "       [0, 3, 7, 4],\n",
       "       [8, 8, 5, 2],\n",
       "       [1, 5, 6, 1]])"
      ]
     },
     "execution_count": 64,
     "metadata": {},
     "output_type": "execute_result"
    }
   ],
   "source": [
    "## Se crea el array con subconjuntos dados.\n",
    "c = np.array([[2,4,5,6],[0,3,7,4],[8,8,5,2],[1,5,6,1]])\n",
    "c"
   ]
  },
  {
   "cell_type": "code",
   "execution_count": 75,
   "id": "88a329af-70bf-4713-af45-dbd4b44677a5",
   "metadata": {
    "tags": []
   },
   "outputs": [
    {
     "name": "stdout",
     "output_type": "stream",
     "text": [
      "[0 3 7 4]\n"
     ]
    }
   ],
   "source": [
    "## Selecciona el array 0 3 7 4\n",
    "print(c[1])"
   ]
  },
  {
   "cell_type": "code",
   "execution_count": 77,
   "id": "7fd8d12f-56e4-417a-aaf8-9b09682c6ecb",
   "metadata": {
    "tags": []
   },
   "outputs": [
    {
     "name": "stdout",
     "output_type": "stream",
     "text": [
      "[2 5]\n",
      "[8 5]\n"
     ]
    }
   ],
   "source": [
    "## Selecciona el subconjunto 2 5 del array 0 y el subconjunto 8 5 del array 2\n",
    "print(c[0][0:3:2])\n",
    "print(c[2][0:5:2])"
   ]
  },
  {
   "cell_type": "markdown",
   "id": "fbb4ed36-3bcb-4f40-a66c-eb6f772caaf6",
   "metadata": {},
   "source": [
    "4) Dados los arrays a = [1, 4, 2, 7] y b = [1, 3, 2, 9], obtenga la media aritmética de la diferencia (a-b)."
   ]
  },
  {
   "cell_type": "code",
   "execution_count": 95,
   "id": "3437299c-1a92-4736-85cc-1a894af40bda",
   "metadata": {
    "tags": []
   },
   "outputs": [],
   "source": [
    "## Se crea el array solicitado.\n",
    "a = np.array([1,4,2,7])\n",
    "b = np.array([1,3,2,9])"
   ]
  },
  {
   "cell_type": "code",
   "execution_count": 96,
   "id": "65c92cb4-be7e-456d-8d81-8e73a10c6a4d",
   "metadata": {
    "tags": []
   },
   "outputs": [
    {
     "name": "stdout",
     "output_type": "stream",
     "text": [
      "[ 0  1  0 -2]\n"
     ]
    }
   ],
   "source": [
    "## Se realiza la resta\n",
    "c = np.subtract(a,b)\n",
    "print(c)"
   ]
  },
  {
   "cell_type": "code",
   "execution_count": 97,
   "id": "c8d27133-83a9-481e-8d3d-891a53e1a64b",
   "metadata": {
    "tags": []
   },
   "outputs": [
    {
     "name": "stdout",
     "output_type": "stream",
     "text": [
      "-0.25\n"
     ]
    }
   ],
   "source": [
    "## Se saca la media de la diferencia.\n",
    "media = np.mean(c)\n",
    "print(media)"
   ]
  },
  {
   "cell_type": "markdown",
   "id": "82956d0b-e788-4a10-85e4-eb41a8cfbcfa",
   "metadata": {},
   "source": [
    "5) Tengo valores de cordenadas (x, y) en las columnas del array\n",
    "\n",
    "    1.33 4.5\n",
    "    30.0 10.7\n",
    "    70.2 0.5\n",
    "\n",
    "    5.1) Agregue a este array las coordenadas (37.1, -3.6).\n",
    "    5.2) Muestre en pantalla las dimensiones del nuevo array."
   ]
  },
  {
   "cell_type": "code",
   "execution_count": 123,
   "id": "34daf6fb-9415-44c0-af02-f69733d93edc",
   "metadata": {
    "tags": []
   },
   "outputs": [
    {
     "name": "stdout",
     "output_type": "stream",
     "text": [
      "[[1.33, 4.5], [30.0, 10.7], [70.2, 0.5]]\n"
     ]
    }
   ],
   "source": [
    "## Se crea el array con las coordenadas dadas.\n",
    "geo = [[1.33,4.5],[30.0,10.7],[70.2,0.5]]\n",
    "print(geo)"
   ]
  },
  {
   "cell_type": "code",
   "execution_count": 124,
   "id": "97fb074b-077c-4fe9-9444-295610b77390",
   "metadata": {
    "tags": []
   },
   "outputs": [
    {
     "name": "stdout",
     "output_type": "stream",
     "text": [
      "[[1.33, 4.5], [30.0, 10.7], [70.2, 0.5], [37.1, -3.6]]\n"
     ]
    }
   ],
   "source": [
    "## Se agrega un nuevo juego de coordenadas\n",
    "geo.append([37.1,-3.6])\n",
    "## Se muestra el array\n",
    "print(geo)"
   ]
  },
  {
   "cell_type": "markdown",
   "id": "e74c303f-9a85-45f9-902c-04d6cf9846dd",
   "metadata": {},
   "source": [
    "6) Copie el array del ejercicio anterior. Traspóngalo.\n",
    "\n",
    "    Agregue ahora dos nuevos pares de coordenadas: (10.8,3.0) y (35.8, 12.0).\n"
   ]
  },
  {
   "cell_type": "code",
   "execution_count": 125,
   "id": "68f9a626-2749-4d95-9f64-61b4589e62d6",
   "metadata": {
    "tags": []
   },
   "outputs": [],
   "source": [
    "## Transponer el array anterior\n",
    "geo_2 = np.transpose(geo)"
   ]
  },
  {
   "cell_type": "code",
   "execution_count": 128,
   "id": "9cbd2e94-453d-458d-8b37-59496b0e6417",
   "metadata": {
    "tags": []
   },
   "outputs": [
    {
     "name": "stdout",
     "output_type": "stream",
     "text": [
      "[ 1.33 30.   70.2  37.1   4.5  10.7   0.5  -3.6  10.8   3.   35.8  12.  ]\n"
     ]
    }
   ],
   "source": [
    "## Agrega nuevas coordenadas\n",
    "geo_3 = np.append(geo_2,[[10.8,3.0],[35.8,12.0]])\n",
    "print(geo_3)"
   ]
  },
  {
   "cell_type": "code",
   "execution_count": null,
   "id": "d1cce131-c7c9-4da2-87d9-8b4db6842ce0",
   "metadata": {},
   "outputs": [],
   "source": []
  }
 ],
 "metadata": {
  "kernelspec": {
   "display_name": "Python 3 (ipykernel)",
   "language": "python",
   "name": "python3"
  },
  "language_info": {
   "codemirror_mode": {
    "name": "ipython",
    "version": 3
   },
   "file_extension": ".py",
   "mimetype": "text/x-python",
   "name": "python",
   "nbconvert_exporter": "python",
   "pygments_lexer": "ipython3",
   "version": "3.11.5"
  }
 },
 "nbformat": 4,
 "nbformat_minor": 5
}
